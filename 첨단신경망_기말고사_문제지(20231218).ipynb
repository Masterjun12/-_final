{
 "cells": [
  {
   "cell_type": "markdown",
   "id": "30aa6cc8",
   "metadata": {},
   "source": [
    "## 첨단신경망 기말고사<font color = red>[100점 만점]</font>\n",
    "\n",
    "- Quiz 시간: 2023년 12월 <font color = blue>18일</font> 10:30분부터 <font color = blue>24일</font> 22:30분까지.<br><br>\n",
    "\n",
    "- 파일이름 작성방법: 첨단신경망_기말고사_학번_성명.ipynb<br><br>\n",
    "\n",
    "- <font color = red>주의사항1: jupyternotebook file로만 제출 받습니다.</font><br>\n",
    "- <font color = red>주의사항2: jupyternotebook file을 실행해본 후 upload하세요</font><br>\n",
    "- <font color = red>주의사항3: 모든 코드 중에 Tensorflow, Pytorch 등 본인이 익숙한 라이브러리를 골라서 쓸 수 있습니다.</font><br><br>\n",
    "\n",
    "- 답안지 제출:\n",
    "   www.webhard.co.kr<br>\n",
    "   ID: lindsey<br>\n",
    "   PW: start<br>\n",
    "   답안제출 Folder: \"올리기전용/첨단신경망(2023년 3힉년 2학기)/기말고사 답안제출\" 폴더에 답안제출.<br>\n",
    "   \n",
    "- 빈칸에 프로그램을 작성한 후 실행결과를 제출.<br><br>\n",
    "- \".ipynb\"파일만 제출 가능합니다.  \".py\"등 다른 형식의 파일을 받지 않습니다.<br><br>\n",
    "- Quiz는 답안체출 기한 이후에 upload된 file은 인정하지 않습니다."
   ]
  },
  {
   "cell_type": "markdown",
   "id": "af1c7500",
   "metadata": {},
   "source": [
    "[문제 1] 객채 탐지 문제: <font color = red>[34점]</font><br>\n",
    "다음 세 개의 동영상에서 YOLO(버전에 제한이 없음) 모델을 사용하여 다음 문제를 해결할 수 있는 모델을 개발하시오<br>\n",
    "$ \\ \\ $ (1) 통과하는 차량의 수를 Count하시오<br>\n",
    "$ \\quad $ (i) 윗 쪽 방향으로 통과한 차량의 수를 Count하시오 <br>\n",
    "$ \\quad $ (ii) 아랫 쪽 방향으로 통과한 차량의 수를 Count하시오<br>\n",
    "$ \\ \\ $ (2) 차량의 속도를 측정하시오<br> \n",
    "$\\qquad$ $\\Longrightarrow \\ $동영상을 다운로드받은 주소(www.webhard.co.kr): \"내리기전용/00 인공지능교과목/Deep Learning/Dataset.\n",
    "![동영상을 다운로드받은 주소](data:image/png;base64,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)"
   ]
  },
  {
   "cell_type": "markdown",
   "id": "7ae5fca8",
   "metadata": {},
   "source": [
    "답변: "
   ]
  },
  {
   "cell_type": "code",
   "execution_count": null,
   "id": "2ae1aa64",
   "metadata": {},
   "outputs": [],
   "source": []
  },
  {
   "cell_type": "code",
   "execution_count": null,
   "id": "06c25095",
   "metadata": {},
   "outputs": [],
   "source": []
  },
  {
   "cell_type": "code",
   "execution_count": null,
   "id": "c13ef5f7",
   "metadata": {},
   "outputs": [],
   "source": []
  },
  {
   "cell_type": "markdown",
   "id": "8caf298f",
   "metadata": {},
   "source": [
    "[문제 2] 자연어 처리 문제: <font color = red>[33점]</font><br>\n",
    "$ \\ \\ $ (1) 파이썬으로 프로그램을 작성하여 각각 BERT 모델과 GPT 모델을 사용하여 뉴스 기사의 요약을 생성하고 두 모델이 생성한 요약의 품질을 비교하세요.\n",
    "-  뉴스 원문：\n",
    "The Daman and Diu administration on Wednesday withdrew a circular that asked women staff to tie rakhis on male colleagues after the order triggered a backlash from employees and was ripped apart on social media.The union territory?s administration was forced to retreat within 24 hours of issuing the circular that made it compulsory for its staff to celebrate Rakshabandhan at workplace.?It has been decided to celebrate the festival of Rakshabandhan on August 7. In this connection, all offices/ departments shall remain open and celebrate the festival collectively at a suitable time wherein all the lady staff shall tie rakhis to their colleagues,? the order, issued on August 1 by Gurpreet Singh, deputy secretary (personnel), had said.To ensure that no one skipped office, an attendance report was to be sent to the government the next evening.The two notifications ? one mandating the celebration of Rakshabandhan (left) and the other withdrawing the mandate (right) ? were issued by the Daman and Diu administration a day apart. The circular was withdrawn through a one-line order issued late in the evening by the UT?s department of personnel and administrative reforms.?The circular is ridiculous. There are sensitivities involved. How can the government dictate who I should tie rakhi to? We should maintain the professionalism of a workplace? an official told Hindustan Times earlier in the day. She refused to be identified.The notice was issued on Daman and Diu administrator and former Gujarat home minister Praful Kodabhai Patel?s direction, sources said.Rakshabandhan, a celebration of the bond between brothers and sisters, is one of several Hindu festivities and rituals that are no longer confined of private, family affairs but have become tools to push politic al ideologies.In 2014, the year BJP stormed to power at the Centre, Rashtriya Swayamsevak Sangh (RSS) chief Mohan Bhagwat said the festival had ?national significance? and should be celebrated widely ?to protect Hindu culture and live by the values enshrined in it?. The RSS is the ideological parent of the ruling BJP.Last year, women ministers in the Modi government went to the border areas to celebrate the festival with soldiers. A year before, all cabinet ministers were asked to go to their constituencies for the festival.<br>\n",
    "<br>\n",
    "\n",
    "- 해당 뉴스의 요약:\n",
    "The Administration of Union Territory Daman and Diu has revoked its order that made it compulsory for women to tie rakhis to their male colleagues on the occasion of Rakshabandhan on August 7. The administration was forced to withdraw the decision within 24 hours of issuing the circular after it received flak from employees and was slammed on social media.<br>\n",
    "<br>\n",
    "\n",
    "$ \\ \\ $ (2) ROUGE 측정항목을 사용하여 요약 품질을 평가하고 두 모델의 성능을 비교하세요."
   ]
  },
  {
   "cell_type": "markdown",
   "id": "c077da64",
   "metadata": {},
   "source": [
    "답변:"
   ]
  },
  {
   "cell_type": "code",
   "execution_count": null,
   "id": "79b320ae",
   "metadata": {},
   "outputs": [],
   "source": [
    "# 필요한 라이브러리 가져오기\n",
    "import transformers\n",
    "from nltk.tokenize import word_tokenize\n",
    "from nltk.tag import pos_tag\n",
    "\n",
    "# 사전 학습된 모델 로드\n",
    "bert_model = transformers.AutoModel.from_pretrained(\"bert-base-uncased\")\n",
    "gpt_model = transformers.AutoModel.from_pretrained(\"gpt2\")\n",
    "\n",
    "# 뉴스 기사 전처리\n",
    "\n",
    "# BERT 모델을 사용하여 텍스트 특징 추출\n",
    "\n",
    "# GPT 모델을 사용하여 요약 생성\n",
    "\n",
    "\n",
    "# 요약 품질 평가\n",
    "# 메인 프로그램\n",
    "NEWS_ARTICLE = \"... 뉴스 기사의 텍스트를 입력하세요 ...\"\n",
    "reference_summary = \"... 뉴스 기사의 요약을 입력하세요 ...\"\n",
    "\n",
    "print(\"GPT 요약:\", gpt_summary)\n",
    "print(\"BERT 요약:\", bert_summary)\n",
    "print(\"GPT ROUGE 점수:\", rouge_score_gpt)\n",
    "print(\"BERT ROUGE 점수: \", rouge_score_bert)"
   ]
  },
  {
   "cell_type": "code",
   "execution_count": null,
   "id": "37b0a35b",
   "metadata": {},
   "outputs": [],
   "source": []
  },
  {
   "cell_type": "code",
   "execution_count": null,
   "id": "cac66c56",
   "metadata": {},
   "outputs": [],
   "source": []
  },
  {
   "cell_type": "markdown",
   "id": "26beb48e",
   "metadata": {},
   "source": [
    "[문제 3] 생성적 적대 신경망 문제: <font color = red>[33점]</font><br>\n",
    "$ \\ \\ $ (1) 파이썬으로 프로그램을 작성하여 GAN(Generative Adversarial Network) 모델을 구현하고 MNIST 데이터 셋에서 훈련하고 숫자를 생성해보세요.<br>\n",
    "$ \\ \\ $ (2) 훈련 곡선을 그리고 모델의 장단점을 분석하세요."
   ]
  },
  {
   "cell_type": "markdown",
   "id": "34574382",
   "metadata": {},
   "source": [
    "답변:"
   ]
  },
  {
   "cell_type": "code",
   "execution_count": null,
   "id": "d59c8697",
   "metadata": {},
   "outputs": [],
   "source": []
  },
  {
   "cell_type": "code",
   "execution_count": null,
   "id": "1a519746",
   "metadata": {},
   "outputs": [],
   "source": []
  },
  {
   "cell_type": "code",
   "execution_count": null,
   "id": "625847c1",
   "metadata": {},
   "outputs": [],
   "source": []
  },
  {
   "cell_type": "code",
   "execution_count": null,
   "id": "f0c9d86f",
   "metadata": {},
   "outputs": [],
   "source": []
  }
 ],
 "metadata": {
  "kernelspec": {
   "display_name": "Python 3 (ipykernel)",
   "language": "python",
   "name": "python3"
  },
  "language_info": {
   "codemirror_mode": {
    "name": "ipython",
    "version": 3
   },
   "file_extension": ".py",
   "mimetype": "text/x-python",
   "name": "python",
   "nbconvert_exporter": "python",
   "pygments_lexer": "ipython3",
   "version": "3.8.14"
  }
 },
 "nbformat": 4,
 "nbformat_minor": 5
}
